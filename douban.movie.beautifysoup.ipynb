{
 "metadata": {
  "language_info": {
   "codemirror_mode": {
    "name": "ipython",
    "version": 3
   },
   "file_extension": ".py",
   "mimetype": "text/x-python",
   "name": "python",
   "nbconvert_exporter": "python",
   "pygments_lexer": "ipython3",
   "version": "3.8.3-final"
  },
  "orig_nbformat": 2,
  "kernelspec": {
   "name": "python3",
   "display_name": "Python 3",
   "language": "python"
  }
 },
 "nbformat": 4,
 "nbformat_minor": 2,
 "cells": [
  {
   "cell_type": "code",
   "execution_count": 14,
   "metadata": {},
   "outputs": [
    {
     "output_type": "stream",
     "name": "stdout",
     "text": [
      "https://movie.douban.com/subject/34894753/?from=showing\nhttps://movie.douban.com/subject/34894753/?from=showing\nhttps://movie.douban.com/subject/34930862/?from=showing\nhttps://movie.douban.com/subject/34930862/?from=showing\nhttps://movie.douban.com/subject/30300277/?from=showing\nhttps://movie.douban.com/subject/30300277/?from=showing\nhttps://movie.douban.com/subject/30257787/?from=showing\nhttps://movie.douban.com/subject/30257787/?from=showing\nhttps://movie.douban.com/subject/34454004/?from=showing\nhttps://movie.douban.com/subject/34454004/?from=showing\nhttps://movie.douban.com/subject/2364086/?from=showing\nhttps://movie.douban.com/subject/2364086/?from=showing\nhttps://movie.douban.com/subject/33454474/?from=showing\nhttps://movie.douban.com/subject/33454474/?from=showing\nhttps://movie.douban.com/subject/24298954/?from=showing\nhttps://movie.douban.com/subject/24298954/?from=showing\nhttps://movie.douban.com/subject/30335799/?from=showing\nhttps://movie.douban.com/subject/30335799/?from=showing\nhttps://movie.douban.com/subject/30464542/?from=showing\nhttps://movie.douban.com/subject/30464542/?from=showing\nhttps://movie.douban.com/subject/35155748/?from=showing\nhttps://movie.douban.com/subject/35155748/?from=showing\nhttps://movie.douban.com/subject/30373723/?from=showing\nhttps://movie.douban.com/subject/30373723/?from=showing\nhttps://movie.douban.com/subject/30220799/?from=showing\nhttps://movie.douban.com/subject/30220799/?from=showing\nhttps://movie.douban.com/subject/30385361/?from=showing\nhttps://movie.douban.com/subject/30385361/?from=showing\nhttps://movie.douban.com/subject/30204413/?from=showing\nhttps://movie.douban.com/subject/30204413/?from=showing\nhttps://movie.douban.com/subject/34825959/?from=showing\nhttps://movie.douban.com/subject/34825959/?from=showing\nhttps://movie.douban.com/subject/30272753/?from=showing\nhttps://movie.douban.com/subject/30272753/?from=showing\nhttps://movie.douban.com/subject/25698373/?from=showing\nhttps://movie.douban.com/subject/25698373/?from=showing\nhttps://movie.douban.com/subject/27199324/?from=showing\nhttps://movie.douban.com/subject/27199324/?from=showing\nhttps://movie.douban.com/subject/34463424/?from=showing\nhttps://movie.douban.com/subject/34463424/?from=showing\nhttps://movie.douban.com/subject/30128916/?from=showing\nhttps://movie.douban.com/subject/30128916/?from=showing\nhttps://movie.douban.com/subject/30482645/?from=showing\nhttps://movie.douban.com/subject/30482645/?from=showing\nhttps://movie.douban.com/subject/35051512/?from=showing\nhttps://movie.douban.com/subject/35051512/?from=showing\nhttps://movie.douban.com/subject/33441927/?from=showing\nhttps://movie.douban.com/subject/33441927/?from=showing\nhttps://movie.douban.com/subject/35240116/?from=showing\nhttps://movie.douban.com/subject/35240116/?from=showing\nhttps://movie.douban.com/subject/30274965/?from=showing\nhttps://movie.douban.com/subject/30274965/?from=showing\nhttps://movie.douban.com/subject/24750460/?from=showing\nhttps://movie.douban.com/subject/24750460/?from=showing\nhttps://movie.douban.com/subject/27592484/?from=showing\nhttps://movie.douban.com/subject/27592484/?from=showing\nhttps://movie.douban.com/subject/34800338/?from=showing\nhttps://movie.douban.com/subject/34800338/?from=showing\nhttps://movie.douban.com/subject/35182921/?from=showing\nhttps://movie.douban.com/subject/35182921/?from=showing\nhttps://movie.douban.com/subject/35225979/?from=showing\nhttps://movie.douban.com/subject/35225979/?from=showing\nhttps://movie.douban.com/subject/27176831/?from=showing\nhttps://movie.douban.com/subject/27176831/?from=showing\nhttps://movie.douban.com/subject/34914949/?from=showing\nhttps://movie.douban.com/subject/34914949/?from=showing\nhttps://movie.douban.com/subject/1424627/?from=showing\nhttps://movie.douban.com/subject/1424627/?from=showing\nhttps://movie.douban.com/subject/33454474/?from=reviews\nhttps://movie.douban.com/subject/33454474/?from=reviews\nhttps://movie.douban.com/subject/26673282/?from=reviews\nhttps://movie.douban.com/subject/26673282/?from=reviews\nhttps://movie.douban.com/subject/34937935/?from=reviews\nhttps://movie.douban.com/subject/34937935/?from=reviews\nhttps://movie.douban.com/subject/30346025/?from=reviews\nhttps://movie.douban.com/subject/30346025/?from=reviews\nhttps://movie.douban.com/subject/34930862/\nhttps://movie.douban.com/subject/34679696/\nhttps://movie.douban.com/subject/34461705/\nhttps://movie.douban.com/subject/30346025/\nhttps://movie.douban.com/subject/34614650/\nhttps://movie.douban.com/subject/35177637/\nhttps://movie.douban.com/subject/34851172/\nhttps://movie.douban.com/subject/27016691/\nhttps://movie.douban.com/subject/33465595/\nhttps://movie.douban.com/subject/30403683/\n"
     ]
    },
    {
     "output_type": "error",
     "ename": "AttributeError",
     "evalue": "'NoneType' object has no attribute 'find'",
     "traceback": [
      "\u001b[1;31m---------------------------------------------------------------------------\u001b[0m",
      "\u001b[1;31mAttributeError\u001b[0m                            Traceback (most recent call last)",
      "\u001b[1;32m<ipython-input-14-b81b9e209589>\u001b[0m in \u001b[0;36m<module>\u001b[1;34m\u001b[0m\n\u001b[0;32m     13\u001b[0m \u001b[1;32mfor\u001b[0m \u001b[0ma_html\u001b[0m \u001b[1;32min\u001b[0m \u001b[0mall_a\u001b[0m\u001b[1;33m:\u001b[0m\u001b[1;33m\u001b[0m\u001b[1;33m\u001b[0m\u001b[0m\n\u001b[0;32m     14\u001b[0m     \u001b[1;31m#print(a_html)\u001b[0m\u001b[1;33m\u001b[0m\u001b[1;33m\u001b[0m\u001b[1;33m\u001b[0m\u001b[0m\n\u001b[1;32m---> 15\u001b[1;33m     \u001b[1;32mif\u001b[0m \u001b[0ma_html\u001b[0m\u001b[1;33m.\u001b[0m\u001b[0mget\u001b[0m\u001b[1;33m(\u001b[0m\u001b[1;34m'href'\u001b[0m\u001b[1;33m)\u001b[0m\u001b[1;33m.\u001b[0m\u001b[0mfind\u001b[0m\u001b[1;33m(\u001b[0m\u001b[1;34m'subject'\u001b[0m\u001b[1;33m)\u001b[0m \u001b[1;33m!=\u001b[0m \u001b[1;33m-\u001b[0m\u001b[1;36m1\u001b[0m\u001b[1;33m:\u001b[0m\u001b[1;33m\u001b[0m\u001b[1;33m\u001b[0m\u001b[0m\n\u001b[0m\u001b[0;32m     16\u001b[0m         \u001b[0mprint\u001b[0m\u001b[1;33m(\u001b[0m\u001b[0ma_html\u001b[0m\u001b[1;33m.\u001b[0m\u001b[0mget\u001b[0m\u001b[1;33m(\u001b[0m\u001b[1;34m'href'\u001b[0m\u001b[1;33m)\u001b[0m\u001b[1;33m)\u001b[0m\u001b[1;33m\u001b[0m\u001b[1;33m\u001b[0m\u001b[0m\n\u001b[0;32m     17\u001b[0m     \u001b[1;31m# soup2 = BeautifulSoup(a_html, 'html.parser')\u001b[0m\u001b[1;33m\u001b[0m\u001b[1;33m\u001b[0m\u001b[1;33m\u001b[0m\u001b[0m\n",
      "\u001b[1;31mAttributeError\u001b[0m: 'NoneType' object has no attribute 'find'"
     ]
    }
   ],
   "source": [
    "import requests\n",
    "from bs4 import BeautifulSoup\n",
    "\n",
    "url = 'https://movie.douban.com/'\n",
    "header = {'User-Agent':'Mozilla/5.0 (Windows; U; Windows NT 6.1; en-US; rv:1.9.1.6) Gecko/20091201 Firefox/3.5.6'}\n",
    "\n",
    "response = requests.get(url, headers=header)\n",
    "# print(response.text)\n",
    "\n",
    "soup = BeautifulSoup(response.text, 'html.parser')\n",
    "all_a = soup.find_all('a')\n",
    "\n",
    "for a_html in all_a:\n",
    "    #print(a_html)\n",
    "    if a_html.get('href').find('subject') != -1:\n",
    "        print(a_html.get('href'))\n",
    "    # soup2 = BeautifulSoup(a_html, 'html.parser')\n",
    "    # print(soup2.p)\n"
   ]
  }
 ]
}