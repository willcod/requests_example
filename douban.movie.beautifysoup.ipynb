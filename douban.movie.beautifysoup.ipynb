{
 "metadata": {
  "language_info": {
   "codemirror_mode": {
    "name": "ipython",
    "version": 3
   },
   "file_extension": ".py",
   "mimetype": "text/x-python",
   "name": "python",
   "nbconvert_exporter": "python",
   "pygments_lexer": "ipython3",
   "version": "3.8.3-final"
  },
  "orig_nbformat": 2,
  "kernelspec": {
   "name": "python3",
   "display_name": "Python 3",
   "language": "python"
  }
 },
 "nbformat": 4,
 "nbformat_minor": 2,
 "cells": [
  {
   "cell_type": "code",
   "execution_count": 13,
   "metadata": {},
   "outputs": [
    {
     "output_type": "stream",
     "name": "stdout",
     "text": [
      "\n\n https://movie.douban.com/subject/34894753/?from=showing\n沐浴之王 https://movie.douban.com/subject/34894753/?from=showing\n\n\n https://movie.douban.com/subject/34930862/?from=showing\n棒！少年 https://movie.douban.com/subject/34930862/?from=showing\n\n\n https://movie.douban.com/subject/30300277/?from=showing\n猎杀T34 https://movie.douban.com/subject/30300277/?from=showing\n\n\n https://movie.douban.com/subject/30257787/?from=showing\n一秒钟 https://movie.douban.com/subject/30257787/?from=showing\n\n\n https://movie.douban.com/subject/34454004/?from=showing\n哆啦A梦：大... https://movie.douban.com/subject/34454004/?from=showing\n\n\n https://movie.douban.com/subject/2364086/?from=showing\n隐形人 https://movie.douban.com/subject/2364086/?from=showing\n\n\n https://movie.douban.com/subject/33454474/?from=showing\n如果声音不记... https://movie.douban.com/subject/33454474/?from=showing\n\n\n https://movie.douban.com/subject/24298954/?from=showing\n疯狂原始人2... https://movie.douban.com/subject/24298954/?from=showing\n\n\n https://movie.douban.com/subject/30335799/?from=showing\n城市猎人 https://movie.douban.com/subject/30335799/?from=showing\n\n\n https://movie.douban.com/subject/30464542/?from=showing\n赤狐书生 https://movie.douban.com/subject/30464542/?from=showing\n\n\n https://movie.douban.com/subject/35155748/?from=showing\n金刚川 https://movie.douban.com/subject/35155748/?from=showing\n\n\n https://movie.douban.com/subject/30373723/?from=showing\n除暴 https://movie.douban.com/subject/30373723/?from=showing\n\n\n https://movie.douban.com/subject/30220799/?from=showing\n末日逃生 https://movie.douban.com/subject/30220799/?from=showing\n\n\n https://movie.douban.com/subject/30385361/?from=showing\n少女佳禾 https://movie.douban.com/subject/30385361/?from=showing\n\n\n https://movie.douban.com/subject/30204413/?from=showing\n气球 https://movie.douban.com/subject/30204413/?from=showing\n\n\n https://movie.douban.com/subject/34825959/?from=showing\n日光之下 https://movie.douban.com/subject/34825959/?from=showing\n\n\n https://movie.douban.com/subject/30272753/?from=showing\n宝可梦：超梦... https://movie.douban.com/subject/30272753/?from=showing\n\n\n https://movie.douban.com/subject/25698373/?from=showing\n闺蜜心窍 https://movie.douban.com/subject/25698373/?from=showing\n\n\n https://movie.douban.com/subject/27199324/?from=showing\n野性的呼唤 https://movie.douban.com/subject/27199324/?from=showing\n\n\n https://movie.douban.com/subject/34463424/?from=showing\n南拳之英雄崛... https://movie.douban.com/subject/34463424/?from=showing\n\n\n https://movie.douban.com/subject/30128916/?from=showing\n夺冠 https://movie.douban.com/subject/30128916/?from=showing\n\n\n https://movie.douban.com/subject/30482645/?from=showing\n数码宝贝：最... https://movie.douban.com/subject/30482645/?from=showing\n\n\n https://movie.douban.com/subject/35051512/?from=showing\n我和我的家乡... https://movie.douban.com/subject/35051512/?from=showing\n\n\n https://movie.douban.com/subject/33441927/?from=showing\n半条棉被 https://movie.douban.com/subject/33441927/?from=showing\n\n\n https://movie.douban.com/subject/35240116/?from=showing\n守望相思树 https://movie.douban.com/subject/35240116/?from=showing\n\n\n https://movie.douban.com/subject/30274965/?from=showing\n海兽之子 https://movie.douban.com/subject/30274965/?from=showing\n\n\n https://movie.douban.com/subject/24750460/?from=showing\n地狱男爵：血... https://movie.douban.com/subject/24750460/?from=showing\n\n\n https://movie.douban.com/subject/27592484/?from=showing\n热气球飞行家... https://movie.douban.com/subject/27592484/?from=showing\n\n\n https://movie.douban.com/subject/34800338/?from=showing\n灌篮高手的契... https://movie.douban.com/subject/34800338/?from=showing\n\n\n https://movie.douban.com/subject/35182921/?from=showing\n汪汪队立大功... https://movie.douban.com/subject/35182921/?from=showing\n\n\n https://movie.douban.com/subject/35225979/?from=showing\n保家卫国——... https://movie.douban.com/subject/35225979/?from=showing\n\n\n https://movie.douban.com/subject/27176831/?from=showing\n五彩缤纷 https://movie.douban.com/subject/27176831/?from=showing\n\n\n https://movie.douban.com/subject/34914949/?from=showing\n掬水月在手 https://movie.douban.com/subject/34914949/?from=showing\n\n\n https://movie.douban.com/subject/1424627/?from=showing\n乌鸦与麻雀 https://movie.douban.com/subject/1424627/?from=showing\n\n\n https://movie.douban.com/subject/33454474/?from=reviews\n《如果声音不记得》 https://movie.douban.com/subject/33454474/?from=reviews\n\n\n https://movie.douban.com/subject/26673282/?from=reviews\n《冷血狂宴》 https://movie.douban.com/subject/26673282/?from=reviews\n\n\n https://movie.douban.com/subject/34937935/?from=reviews\n《杀马特我爱你》 https://movie.douban.com/subject/34937935/?from=reviews\n\n\n https://movie.douban.com/subject/30346025/?from=reviews\n《电话》 https://movie.douban.com/subject/30346025/?from=reviews\n棒！少年 https://movie.douban.com/subject/34930862/\n血战摩苏尔 https://movie.douban.com/subject/34679696/\n曼克 https://movie.douban.com/subject/34461705/\n电话 https://movie.douban.com/subject/30346025/\n太空狗 https://movie.douban.com/subject/34614650/\n三振集团英语托业班 https://movie.douban.com/subject/35177637/\n幻爱 https://movie.douban.com/subject/34851172/\n乡下人的悲歌 https://movie.douban.com/subject/27016691/\n亲爱的她 https://movie.douban.com/subject/33465595/\n菊石 https://movie.douban.com/subject/30403683/\n"
     ]
    },
    {
     "output_type": "error",
     "ename": "AttributeError",
     "evalue": "'NoneType' object has no attribute 'find'",
     "traceback": [
      "\u001b[1;31m---------------------------------------------------------------------------\u001b[0m",
      "\u001b[1;31mAttributeError\u001b[0m                            Traceback (most recent call last)",
      "\u001b[1;32m<ipython-input-13-698a9da61691>\u001b[0m in \u001b[0;36m<module>\u001b[1;34m\u001b[0m\n\u001b[0;32m     13\u001b[0m \u001b[1;32mfor\u001b[0m \u001b[0ma_html\u001b[0m \u001b[1;32min\u001b[0m \u001b[0mall_a\u001b[0m\u001b[1;33m:\u001b[0m\u001b[1;33m\u001b[0m\u001b[1;33m\u001b[0m\u001b[0m\n\u001b[0;32m     14\u001b[0m     \u001b[1;31m#print(a_html)\u001b[0m\u001b[1;33m\u001b[0m\u001b[1;33m\u001b[0m\u001b[1;33m\u001b[0m\u001b[0m\n\u001b[1;32m---> 15\u001b[1;33m     \u001b[1;32mif\u001b[0m \u001b[0ma_html\u001b[0m\u001b[1;33m.\u001b[0m\u001b[0mget\u001b[0m\u001b[1;33m(\u001b[0m\u001b[1;34m'href'\u001b[0m\u001b[1;33m)\u001b[0m\u001b[1;33m.\u001b[0m\u001b[0mfind\u001b[0m\u001b[1;33m(\u001b[0m\u001b[1;34m'subject'\u001b[0m\u001b[1;33m)\u001b[0m \u001b[1;33m!=\u001b[0m \u001b[1;33m-\u001b[0m\u001b[1;36m1\u001b[0m\u001b[1;33m:\u001b[0m\u001b[1;33m\u001b[0m\u001b[1;33m\u001b[0m\u001b[0m\n\u001b[0m\u001b[0;32m     16\u001b[0m         \u001b[0mprint\u001b[0m\u001b[1;33m(\u001b[0m\u001b[0ma_html\u001b[0m\u001b[1;33m.\u001b[0m\u001b[0mtext\u001b[0m \u001b[1;33m+\u001b[0m \u001b[1;34m' '\u001b[0m \u001b[1;33m+\u001b[0m\u001b[0ma_html\u001b[0m\u001b[1;33m.\u001b[0m\u001b[0mget\u001b[0m\u001b[1;33m(\u001b[0m\u001b[1;34m'href'\u001b[0m\u001b[1;33m)\u001b[0m\u001b[1;33m)\u001b[0m\u001b[1;33m\u001b[0m\u001b[1;33m\u001b[0m\u001b[0m\n\u001b[0;32m     17\u001b[0m     \u001b[1;31m# soup2 = BeautifulSoup(a_html, 'html.parser')\u001b[0m\u001b[1;33m\u001b[0m\u001b[1;33m\u001b[0m\u001b[1;33m\u001b[0m\u001b[0m\n",
      "\u001b[1;31mAttributeError\u001b[0m: 'NoneType' object has no attribute 'find'"
     ]
    }
   ],
   "source": [
    "import requests\n",
    "from bs4 import BeautifulSoup\n",
    "\n",
    "url = 'https://movie.douban.com/'\n",
    "header = {'User-Agent':'Mozilla/5.0 (Windows; U; Windows NT 6.1; en-US; rv:1.9.1.6) Gecko/20091201 Firefox/3.5.6'}\n",
    "\n",
    "response = requests.get(url, headers=header)\n",
    "# print(response.text)\n",
    "\n",
    "soup = BeautifulSoup(response.text, 'html.parser')\n",
    "all_a = soup.find_all('a')\n",
    "\n",
    "for a_html in all_a:\n",
    "    #print(a_html)\n",
    "    if a_html.get('href').find('subject') != -1:\n",
    "        print(a_html.get('href'))\n",
    "    # soup2 = BeautifulSoup(a_html, 'html.parser')\n",
    "    # print(soup2.p)\n"
   ]
  }
 ]
}