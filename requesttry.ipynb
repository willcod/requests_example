{
 "metadata": {
  "language_info": {
   "codemirror_mode": {
    "name": "ipython",
    "version": 3
   },
   "file_extension": ".py",
   "mimetype": "text/x-python",
   "name": "python",
   "nbconvert_exporter": "python",
   "pygments_lexer": "ipython3",
   "version": "3.8.3-final"
  },
  "orig_nbformat": 2,
  "kernelspec": {
   "name": "python3",
   "display_name": "Python 3",
   "language": "python"
  }
 },
 "nbformat": 4,
 "nbformat_minor": 2,
 "cells": [
  {
   "cell_type": "code",
   "execution_count": 19,
   "metadata": {},
   "outputs": [],
   "source": [
    "import requests\n",
    "from bs4 import BeautifulSoup\n",
    "import json"
   ]
  },
  {
   "cell_type": "code",
   "execution_count": 3,
   "metadata": {
    "tags": []
   },
   "outputs": [
    {
     "output_type": "stream",
     "name": "stdout",
     "text": [
      "电话 https://movie.douban.com/subject/30346025/\n",
      "[<strong class=\"ll rating_num\" property=\"v:average\">7.6</strong>]\n",
      "菊石 https://movie.douban.com/subject/30403683/\n",
      "[<strong class=\"ll rating_num\" property=\"v:average\">7.2</strong>]\n"
     ]
    }
   ],
   "source": [
    "import requests, json\n",
    "from bs4 import BeautifulSoup\n",
    "\n",
    "hds=[{'User-Agent':'Mozilla/5.0 (Windows; U; Windows NT 6.1; en-US; rv:1.9.1.6) Gecko/20091201 Firefox/3.5.6'},\\\n",
    "{'User-Agent':'Mozilla/5.0 (Windows NT 6.2) AppleWebKit/535.11 (KHTML, like Gecko) Chrome/17.0.963.12 Safari/535.11'},\\\n",
    "{'User-Agent': 'Mozilla/5.0 (compatible; MSIE 10.0; Windows NT 6.2; Trident/6.0)'}]\n",
    "\n",
    "url='https://movie.douban.com/j/search_subjects?type=movie&tag=%E7%83%AD%E9%97%A8&page_limit=50&page_start=0'\n",
    "response = requests.get(url, headers=hds[1])\n",
    "# print(response.text)\n",
    "data = json.loads(response.text);\n",
    "items = data['subjects']\n",
    "for item in items[:2]:\n",
    "    print(item[\"title\"] + ' ' + item['url'])\n",
    "    movie_resp = requests.get(item['url'], headers=hds[0])\n",
    "    #print(movie_resp.text);\n",
    "    soup = BeautifulSoup(movie_resp.text, 'html.parser')\n",
    "    div = soup.select('strong.ll.rating_num')\n",
    "    print(div)\n",
    "\n",
    "# print([m for m in data[\"title\"]])\n",
    "# soup = BeautifulSoup(response.text, 'json.parser')\n",
    "# print (soup.prettify())\n",
    "# print (soup.findAll('a'))\n",
    "# links = [a for a in soup.findAll('a', class_='item')]\n",
    "# print(links)\n",
    "\n"
   ]
  },
  {
   "cell_type": "code",
   "execution_count": 3,
   "metadata": {},
   "outputs": [
    {
     "output_type": "stream",
     "name": "stdout",
     "text": [
      "Looking in indexes: https://pypi.tuna.tsinghua.edu.cn/simple\n",
      "Collecting requests_html\n",
      "  Downloading https://pypi.tuna.tsinghua.edu.cn/packages/24/bc/a4380f09bab3a776182578ce6b2771e57259d0d4dbce178205779abdc347/requests_html-0.10.0-py3-none-any.whl (13 kB)\n",
      "Requirement already satisfied: requests in c:\\users\\wwdellxps13\\anaconda3\\lib\\site-packages (from requests_html) (2.24.0)\n",
      "Collecting w3lib\n",
      "  Downloading https://pypi.tuna.tsinghua.edu.cn/packages/a3/59/b6b14521090e7f42669cafdb84b0ab89301a42f1f1a82fcf5856661ea3a7/w3lib-1.22.0-py2.py3-none-any.whl (20 kB)\n",
      "Collecting pyppeteer>=0.0.14\n",
      "  Downloading https://pypi.tuna.tsinghua.edu.cn/packages/5d/4b/3c2aabdd1b91fa52aa9de6cde33b488b0592b4d48efb0ad9efbf71c49f5b/pyppeteer-0.2.2-py3-none-any.whl (145 kB)\n",
      "Collecting bs4\n",
      "  Downloading https://pypi.tuna.tsinghua.edu.cn/packages/10/ed/7e8b97591f6f456174139ec089c769f89a94a1a4025fe967691de971f314/bs4-0.0.1.tar.gz (1.1 kB)\n",
      "Collecting pyquery\n",
      "  Downloading https://pypi.tuna.tsinghua.edu.cn/packages/58/0b/85d15e21f660a8ea68b1e0286168938857391f4ec9f6d204d91c9e013826/pyquery-1.4.3-py3-none-any.whl (22 kB)\n",
      "Collecting fake-useragent\n",
      "  Downloading https://pypi.tuna.tsinghua.edu.cn/packages/d1/79/af647635d6968e2deb57a208d309f6069d31cb138066d7e821e575112a80/fake-useragent-0.1.11.tar.gz (13 kB)\n",
      "Collecting parse\n",
      "  Downloading https://pypi.tuna.tsinghua.edu.cn/packages/b8/49/85f19d9ff908817b864deebf7f68211f9a6fc0b48746d372d970f60d01f5/parse-1.18.0.tar.gz (30 kB)\n",
      "Requirement already satisfied: idna<3,>=2.5 in c:\\users\\wwdellxps13\\anaconda3\\lib\\site-packages (from requests->requests_html) (2.10)\n",
      "Requirement already satisfied: urllib3!=1.25.0,!=1.25.1,<1.26,>=1.21.1 in c:\\users\\wwdellxps13\\anaconda3\\lib\\site-packages (from requests->requests_html) (1.25.9)\n",
      "Requirement already satisfied: certifi>=2017.4.17 in c:\\users\\wwdellxps13\\anaconda3\\lib\\site-packages (from requests->requests_html) (2020.6.20)\n",
      "Requirement already satisfied: chardet<4,>=3.0.2 in c:\\users\\wwdellxps13\\anaconda3\\lib\\site-packages (from requests->requests_html) (3.0.4)\n",
      "Requirement already satisfied: six>=1.4.1 in c:\\users\\wwdellxps13\\anaconda3\\lib\\site-packages (from w3lib->requests_html) (1.15.0)\n",
      "Collecting websockets<9.0,>=8.1\n",
      "  Downloading https://pypi.tuna.tsinghua.edu.cn/packages/36/82/5797b2760cbbcfef28eb9060c6469c447f77e34c95e6ded7833655011fc7/websockets-8.1-cp38-cp38-win_amd64.whl (66 kB)\n",
      "Collecting appdirs<2.0.0,>=1.4.3\n",
      "  Downloading https://pypi.tuna.tsinghua.edu.cn/packages/3b/00/2344469e2084fb287c2e0b57b72910309874c3245463acd6cf5e3db69324/appdirs-1.4.4-py2.py3-none-any.whl (9.6 kB)\n",
      "Requirement already satisfied: tqdm<5.0.0,>=4.42.1 in c:\\users\\wwdellxps13\\anaconda3\\lib\\site-packages (from pyppeteer>=0.0.14->requests_html) (4.47.0)\n",
      "Collecting pyee<8.0.0,>=7.0.1\n",
      "  Downloading https://pypi.tuna.tsinghua.edu.cn/packages/64/f3/90db6276dbc6cb1defa558251acc73c8e436ca8e1e2b38ec75786278de7c/pyee-7.0.4-py2.py3-none-any.whl (12 kB)\n",
      "Requirement already satisfied: beautifulsoup4 in c:\\users\\wwdellxps13\\anaconda3\\lib\\site-packages (from bs4->requests_html) (4.9.1)\n",
      "Requirement already satisfied: lxml>=2.1 in c:\\users\\wwdellxps13\\anaconda3\\lib\\site-packages (from pyquery->requests_html) (4.5.2)\n",
      "Collecting cssselect>0.7.9\n",
      "  Downloading https://pypi.tuna.tsinghua.edu.cn/packages/3b/d4/3b5c17f00cce85b9a1e6f91096e1cc8e8ede2e1be8e96b87ce1ed09e92c5/cssselect-1.1.0-py2.py3-none-any.whl (16 kB)\n",
      "Requirement already satisfied: soupsieve>1.2 in c:\\users\\wwdellxps13\\anaconda3\\lib\\site-packages (from beautifulsoup4->bs4->requests_html) (2.0.1)\n",
      "Building wheels for collected packages: bs4, fake-useragent, parse\n",
      "  Building wheel for bs4 (setup.py): started\n",
      "  Building wheel for bs4 (setup.py): finished with status 'done'\n",
      "  Created wheel for bs4: filename=bs4-0.0.1-py3-none-any.whl size=1279 sha256=526b244166ac1aa2cf84a5bffca16d81e6cf80667d09a3520f5f63da304db5f6\n",
      "  Stored in directory: c:\\users\\wwdellxps13\\appdata\\local\\pip\\cache\\wheels\\3b\\fb\\fd\\c34d8e6cb51eabd4657dff7afb6e4b32196972175a33500555\n",
      "  Building wheel for fake-useragent (setup.py): started\n",
      "  Building wheel for fake-useragent (setup.py): finished with status 'done'\n",
      "  Created wheel for fake-useragent: filename=fake_useragent-0.1.11-py3-none-any.whl size=13489 sha256=d27cb343e9df849bb735858da6559b546c9e97673cfcd13c3c6b18359f3c3217\n",
      "  Stored in directory: c:\\users\\wwdellxps13\\appdata\\local\\pip\\cache\\wheels\\98\\76\\d8\\541dfd6d8e153b5215198c0430f16a3d33d60a02a71239fb13\n",
      "  Building wheel for parse (setup.py): started\n",
      "  Building wheel for parse (setup.py): finished with status 'done'\n",
      "  Created wheel for parse: filename=parse-1.18.0-py3-none-any.whl size=24138 sha256=a18e0bf4f5e53453d4982cefcfc2353f52df1d33066ef865008f4cf9f38d0561\n",
      "  Stored in directory: c:\\users\\wwdellxps13\\appdata\\local\\pip\\cache\\wheels\\d6\\cf\\40\\96c4301b3a2a5ea603b6ea851ba336a6fb7feffcff858d67b7\n",
      "Successfully built bs4 fake-useragent parse\n",
      "Installing collected packages: w3lib, websockets, appdirs, pyee, pyppeteer, bs4, cssselect, pyquery, fake-useragent, parse, requests-html\n",
      "Successfully installed appdirs-1.4.4 bs4-0.0.1 cssselect-1.1.0 fake-useragent-0.1.11 parse-1.18.0 pyee-7.0.4 pyppeteer-0.2.2 pyquery-1.4.3 requests-html-0.10.0 w3lib-1.22.0 websockets-8.1\n",
      "  WARNING: The script pyppeteer-install.exe is installed in 'C:\\Users\\WWDELLXPS13\\anaconda3\\Scripts' which is not on PATH.\n",
      "  Consider adding this directory to PATH or, if you prefer to suppress this warning, use --no-warn-script-location.\n"
     ]
    }
   ],
   "source": [
    "!pip install requests_html"
   ]
  },
  {
   "cell_type": "code",
   "execution_count": 11,
   "metadata": {
    "tags": []
   },
   "outputs": [
    {
     "output_type": "error",
     "ename": "AttributeError",
     "evalue": "'Future' object has no attribute 'html'",
     "traceback": [
      "\u001b[1;31m---------------------------------------------------------------------------\u001b[0m",
      "\u001b[1;31mAttributeError\u001b[0m                            Traceback (most recent call last)",
      "\u001b[1;32m<ipython-input-11-c625a049bfc4>\u001b[0m in \u001b[0;36m<module>\u001b[1;34m\u001b[0m\n\u001b[0;32m      8\u001b[0m \u001b[0msession\u001b[0m \u001b[1;33m=\u001b[0m \u001b[0mAsyncHTMLSession\u001b[0m\u001b[1;33m(\u001b[0m\u001b[1;33m)\u001b[0m\u001b[1;33m\u001b[0m\u001b[1;33m\u001b[0m\u001b[0m\n\u001b[0;32m      9\u001b[0m \u001b[0mr\u001b[0m \u001b[1;33m=\u001b[0m \u001b[0msession\u001b[0m\u001b[1;33m.\u001b[0m\u001b[0mget\u001b[0m\u001b[1;33m(\u001b[0m\u001b[0murl\u001b[0m \u001b[1;33m=\u001b[0m \u001b[0murl\u001b[0m\u001b[1;33m,\u001b[0m \u001b[0mheaders\u001b[0m\u001b[1;33m=\u001b[0m\u001b[0mheader\u001b[0m\u001b[1;33m)\u001b[0m\u001b[1;33m\u001b[0m\u001b[1;33m\u001b[0m\u001b[0m\n\u001b[1;32m---> 10\u001b[1;33m \u001b[1;32mawait\u001b[0m \u001b[0mr\u001b[0m\u001b[1;33m.\u001b[0m\u001b[0mhtml\u001b[0m\u001b[1;33m.\u001b[0m\u001b[0marender\u001b[0m\u001b[1;33m(\u001b[0m\u001b[1;33m)\u001b[0m\u001b[1;33m\u001b[0m\u001b[1;33m\u001b[0m\u001b[0m\n\u001b[0m\u001b[0;32m     11\u001b[0m \u001b[0mprint\u001b[0m\u001b[1;33m(\u001b[0m\u001b[0mr\u001b[0m\u001b[1;33m.\u001b[0m\u001b[0mtext\u001b[0m\u001b[1;33m)\u001b[0m\u001b[1;33m\u001b[0m\u001b[1;33m\u001b[0m\u001b[0m\n",
      "\u001b[1;31mAttributeError\u001b[0m: 'Future' object has no attribute 'html'"
     ]
    }
   ],
   "source": [
    "from requests_html import HTMLSession, AsyncHTMLSession\n",
    "# import nest_asyncio\n",
    "\n",
    "# nest_asyncio.apply()\n",
    "\n",
    "url = 'https://movie.douban.com/'\n",
    "header = {'User-Agent':'Mozilla/5.0 (Windows; U; Windows NT 6.1; en-US; rv:1.9.1.6) Gecko/20091201 Firefox/3.5.6'}\n",
    "session = AsyncHTMLSession()\n",
    "r = await session.get(url = url, headers=header)\n",
    "await r.html.arender()\n",
    "print(r.text)"
   ]
  }
 ]
}